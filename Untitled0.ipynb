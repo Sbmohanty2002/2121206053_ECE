{
  "nbformat": 4,
  "nbformat_minor": 0,
  "metadata": {
    "colab": {
      "provenance": [],
      "authorship_tag": "ABX9TyO9NxKKOAOcEr6VfXEDcgAl",
      "include_colab_link": true
    },
    "kernelspec": {
      "name": "python3",
      "display_name": "Python 3"
    },
    "language_info": {
      "name": "python"
    }
  },
  "cells": [
    {
      "cell_type": "markdown",
      "metadata": {
        "id": "view-in-github",
        "colab_type": "text"
      },
      "source": [
        "<a href=\"https://colab.research.google.com/github/Sbmohanty2002/2121206053_ECE/blob/main/Untitled0.ipynb\" target=\"_parent\"><img src=\"https://colab.research.google.com/assets/colab-badge.svg\" alt=\"Open In Colab\"/></a>"
      ]
    },
    {
      "cell_type": "code",
      "execution_count": 2,
      "metadata": {
        "colab": {
          "base_uri": "https://localhost:8080/"
        },
        "id": "gE82shM5sMke",
        "outputId": "d602202b-4ba5-414b-8831-7539d4fc5abc"
      },
      "outputs": [
        {
          "output_type": "stream",
          "name": "stdout",
          "text": [
            "hello sai\n"
          ]
        }
      ],
      "source": [
        "print('hello sai')"
      ]
    },
    {
      "cell_type": "code",
      "source": [
        "x = 0b10100\n",
        "y = 100\n",
        "z = 0o215\n",
        "u = 0x12d\n",
        "#Float literal\n",
        "float_1 =100.5\n",
        "float_2 =1.5e2\n",
        "a = 5+3.14j\n",
        "print(x,y,z,u)\n",
        "print( float_1, float_2)\n",
        "print(a,a.imag, a.real)"
      ],
      "metadata": {
        "colab": {
          "base_uri": "https://localhost:8080/"
        },
        "id": "g8970LIOuS6J",
        "outputId": "c221c3f7-26a0-43bd-87bc-6afcbd6b28df"
      },
      "execution_count": 4,
      "outputs": [
        {
          "output_type": "stream",
          "name": "stdout",
          "text": [
            "20 100 141 301\n",
            "100.5 150.0\n",
            "(5+3.14j) 3.14 5.0\n"
          ]
        }
      ]
    },
    {
      "cell_type": "code",
      "source": [
        "a=int(input('Enter 1st no ='))\n",
        "b=int(input('Enter 2nd no. ='))\n",
        "c=a+b\n",
        "print('c =',c)"
      ],
      "metadata": {
        "colab": {
          "base_uri": "https://localhost:8080/"
        },
        "id": "J0wAy0DhyD5K",
        "outputId": "6fdee92c-a3a7-4afb-89aa-2fac6204d5ef"
      },
      "execution_count": 6,
      "outputs": [
        {
          "output_type": "stream",
          "name": "stdout",
          "text": [
            "Enter 1st no =20\n",
            "Enter 2nd no. =13\n",
            "c = 33\n"
          ]
        }
      ]
    },
    {
      "cell_type": "code",
      "source": [],
      "metadata": {
        "id": "QeNIocO8x0ty"
      },
      "execution_count": null,
      "outputs": []
    },
    {
      "cell_type": "code",
      "source": [],
      "metadata": {
        "id": "3pgQlSM6uMd2"
      },
      "execution_count": null,
      "outputs": []
    }
  ]
}